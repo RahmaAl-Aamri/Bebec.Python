{
  "nbformat": 4,
  "nbformat_minor": 0,
  "metadata": {
    "colab": {
      "name": "DS_Tuple.ipynb",
      "provenance": [],
      "collapsed_sections": [],
      "authorship_tag": "ABX9TyOcJj377AFHJB3PH6lukOXI",
      "include_colab_link": true
    },
    "kernelspec": {
      "name": "python3",
      "display_name": "Python 3"
    },
    "language_info": {
      "name": "python"
    }
  },
  "cells": [
    {
      "cell_type": "markdown",
      "metadata": {
        "id": "view-in-github",
        "colab_type": "text"
      },
      "source": [
        "<a href=\"https://colab.research.google.com/github/RahmaAl-Aamri/Bebec.Python/blob/main/DS_Tuple.ipynb\" target=\"_parent\"><img src=\"https://colab.research.google.com/assets/colab-badge.svg\" alt=\"Open In Colab\"/></a>"
      ]
    },
    {
      "cell_type": "code",
      "execution_count": 2,
      "metadata": {
        "colab": {
          "base_uri": "https://localhost:8080/"
        },
        "id": "imih25b6ugqZ",
        "outputId": "690f4aa2-c453-4849-cdec-ce07b4724f69"
      },
      "outputs": [
        {
          "output_type": "stream",
          "name": "stdout",
          "text": [
            "55\n",
            "(23, (6, 7, 8), [55, 1, 6])\n"
          ]
        }
      ],
      "source": [
        "tup1 = ()\n",
        "tup1\n",
        "tup2 = (99,)\n",
        "tup2\n",
        "tup3 = (\"hy\", \"hello\",\"bye\")\n",
        "tup3\n",
        "tup4 =(1,3.5,\"book\")\n",
        "tup4\n",
        "tup5 =(33,76,['creat','buy','sell'])\n",
        "tup5\n",
        "tup6=(23,(6,7,8),[55,4,6])\n",
        "tup6\n",
        "print(tup6[2][0])\n",
        "tup6[2][1]=1\n",
        "print(tup6)\n",
        "#tup6[1][1]=55 # Tuple is immutable"
      ]
    },
    {
      "cell_type": "code",
      "source": [
        "tup7 = ('D', 'A', 'F', 'D', 'I')\n",
        "print(tup7.count('D'))\n",
        "print(tup7.count('d')) #It is case sensetive\n",
        "print(tup7.index('A'))"
      ],
      "metadata": {
        "colab": {
          "base_uri": "https://localhost:8080/"
        },
        "id": "aP8zYCRdyyTT",
        "outputId": "a3796649-e577-468c-e434-4d16ccec4a1a"
      },
      "execution_count": 7,
      "outputs": [
        {
          "output_type": "stream",
          "name": "stdout",
          "text": [
            "2\n",
            "0\n",
            "1\n"
          ]
        }
      ]
    }
  ]
}