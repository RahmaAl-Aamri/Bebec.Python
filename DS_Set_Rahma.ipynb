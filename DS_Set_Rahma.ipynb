{
  "nbformat": 4,
  "nbformat_minor": 0,
  "metadata": {
    "colab": {
      "name": "DS Set, Rahma.ipynb",
      "provenance": [],
      "collapsed_sections": [],
      "authorship_tag": "ABX9TyP7fPYUClsnwDI7zCxik0Pp",
      "include_colab_link": true
    },
    "kernelspec": {
      "name": "python3",
      "display_name": "Python 3"
    },
    "language_info": {
      "name": "python"
    }
  },
  "cells": [
    {
      "cell_type": "markdown",
      "metadata": {
        "id": "view-in-github",
        "colab_type": "text"
      },
      "source": [
        "<a href=\"https://colab.research.google.com/github/RahmaAl-Aamri/Bebec.Python/blob/main/DS_Set_Rahma.ipynb\" target=\"_parent\"><img src=\"https://colab.research.google.com/assets/colab-badge.svg\" alt=\"Open In Colab\"/></a>"
      ]
    },
    {
      "cell_type": "code",
      "execution_count": null,
      "metadata": {
        "colab": {
          "base_uri": "https://localhost:8080/"
        },
        "id": "imvMMdgWhqab",
        "outputId": "98298aab-d5eb-4b81-9877-28a70f3672ea"
      },
      "outputs": [
        {
          "output_type": "stream",
          "name": "stdout",
          "text": [
            "{1, 7, 20, 22, 88, 90, 30}\n",
            "{9.5, 'Python', (1, 2, 3, 4)}\n"
          ]
        }
      ],
      "source": [
        "# Repeated values at Set are executed once\n",
        "My_Set = {20,30,22,7,88,90,20,88,20,7,7,30,1} # set of integers\n",
        "print(My_Set)\n",
        "\n",
        "My_Set = {\"Python\", 9.5, (1,2,3,4)} #Inside the set we couldn`t use [], only ()\n",
        "print(My_Set)"
      ]
    },
    {
      "cell_type": "code",
      "source": [
        "%%time\n",
        "# set of integers\n",
        "my_set = {55,45,67,77,1,5,7,0,3,4, 3, 3 ,3 }\n",
        "my_set\n",
        "\n",
        "# set of mixed datatypes\n",
        "my_set = {1.0, \"Hello\", (1, 2, 3)}\n",
        "print(my_set)"
      ],
      "metadata": {
        "colab": {
          "base_uri": "https://localhost:8080/"
        },
        "id": "OKbAzIamjQf3",
        "outputId": "a32ad1ed-7405-426c-8f7c-be88dddabdf2"
      },
      "execution_count": null,
      "outputs": [
        {
          "output_type": "stream",
          "name": "stdout",
          "text": [
            "{1.0, 'Hello', (1, 2, 3)}\n",
            "CPU times: user 844 µs, sys: 0 ns, total: 844 µs\n",
            "Wall time: 853 µs\n"
          ]
        }
      ]
    },
    {
      "cell_type": "code",
      "source": [
        "Set1 = {'Facebook', 'Amazoon', 'Google', 'Hotmail', 'Wallmart'}\n",
        "print(Set1) #It dosen`t care about order\n",
        "#print(Set1[0]) #That`s why it dosen`t support indexing, ERROR\n",
        "Set1.add('Netflix') #'add' is used to add one item only, however 'update' for more than one value\n",
        "print(Set1)\n",
        "Set1.update(['KFC', 'Amazoon', 'Microsoft']) #existing items are not going to be executed, only new values\n",
        "print(Set1)\n"
      ],
      "metadata": {
        "colab": {
          "base_uri": "https://localhost:8080/"
        },
        "id": "nlsrFgSHjzmU",
        "outputId": "5eeceb00-5f5f-459b-8750-71d0e5332e94"
      },
      "execution_count": null,
      "outputs": [
        {
          "output_type": "stream",
          "name": "stdout",
          "text": [
            "{'Wallmart', 'Amazoon', 'Hotmail', 'Google', 'Facebook'}\n",
            "{'Wallmart', 'Amazoon', 'Hotmail', 'Google', 'Netflix', 'Facebook'}\n",
            "{'Wallmart', 'Amazoon', 'Hotmail', 'Google', 'Netflix', 'Facebook', 'Microsoft', 'KFC'}\n"
          ]
        }
      ]
    },
    {
      "cell_type": "code",
      "source": [
        "S1 = {4,5,6,7}\n",
        "print(S1)\n",
        "\n",
        "S1.discard(3) # Since 3 is not there, the set remains unchanged\n",
        "print(S1)\n",
        "\n",
        "S1.discard(7)\n",
        "print(S1)\n",
        "\n",
        "S1.remove(4)\n",
        "print(S1)\n",
        "\n",
        "#S1.remove(1) #It will shows an errorm while 'discard' is ok\n",
        "#print(S1)"
      ],
      "metadata": {
        "colab": {
          "base_uri": "https://localhost:8080/"
        },
        "id": "8N5L9GaNng6v",
        "outputId": "0776b8b4-b450-428b-fc9a-ef3cc97f8106"
      },
      "execution_count": null,
      "outputs": [
        {
          "output_type": "stream",
          "name": "stdout",
          "text": [
            "{4, 5, 6, 7}\n",
            "{4, 5, 6, 7}\n",
            "{4, 5, 6}\n",
            "{5, 6}\n"
          ]
        }
      ]
    },
    {
      "cell_type": "code",
      "source": [
        "S2 = {\"DataScience\"}\n",
        "print(S2)\n",
        "S2 = set('DataScience') # It shows the letters as unique elements without any repetition. \n",
        "print(S2)\n",
        "print(S2.pop()) # 'pop() delete all letters and left only the first item\n",
        "S2.pop()\n",
        "print(S2)\n",
        "S2.clear()\n",
        "print(S2)"
      ],
      "metadata": {
        "colab": {
          "base_uri": "https://localhost:8080/"
        },
        "id": "cGohpvmmo541",
        "outputId": "32d3208a-b989-4483-86c9-394b6fdf90ae"
      },
      "execution_count": 38,
      "outputs": [
        {
          "output_type": "stream",
          "name": "stdout",
          "text": [
            "{'DataScience'}\n",
            "{'i', 'c', 'n', 'e', 'a', 'S', 't', 'D'}\n",
            "i\n",
            "{'n', 'e', 'a', 'S', 't', 'D'}\n",
            "set()\n"
          ]
        }
      ]
    },
    {
      "cell_type": "code",
      "source": [
        "\n",
        "for letter in set('DataScience'):\n",
        "  print(letter, end=' ') #"
      ],
      "metadata": {
        "colab": {
          "base_uri": "https://localhost:8080/"
        },
        "id": "dm5JYmH0yK8O",
        "outputId": "4834482e-6a37-4823-e106-da328db3e761"
      },
      "execution_count": 44,
      "outputs": [
        {
          "output_type": "stream",
          "name": "stdout",
          "text": [
            "i c n e a S t D "
          ]
        }
      ]
    },
    {
      "cell_type": "code",
      "source": [
        "S3 = {5,10,15,5,10}\n",
        "S4 = {20,25,30,10,5}\n",
        "print(S3 | S4)\n",
        "print(S3.union(S4))\n",
        "print(S4.union(S3)) # Values of S4 are going to be presented first\n",
        "print(S3 & S4) # It shows only the intersection\n",
        "print(S3.intersection(S4))\n",
        "print(S3 - S4)\n",
        "print(S3.difference(S4))\n",
        "print(S4 - S3) # It presents the unique values at S4\n",
        "print(S4 ^ S3) # It presents the unique values at both sets\n",
        "S3.difference_update(S4) #it shows the unique value at S3, and whole values at S4\n",
        "print(S3)\n",
        "print(S4)\n"
      ],
      "metadata": {
        "colab": {
          "base_uri": "https://localhost:8080/"
        },
        "id": "VRUjVoa8rVZV",
        "outputId": "70d05b49-78dd-4638-f5c7-1fb0ba7117f2"
      },
      "execution_count": 48,
      "outputs": [
        {
          "output_type": "stream",
          "name": "stdout",
          "text": [
            "{5, 10, 15, 20, 25, 30}\n",
            "{5, 10, 15, 20, 25, 30}\n",
            "{20, 5, 25, 10, 30, 15}\n",
            "{10, 5}\n",
            "{10, 5}\n",
            "{15}\n",
            "{15}\n",
            "{25, 20, 30}\n",
            "{20, 25, 30, 15}\n",
            "{15}\n",
            "{5, 10, 20, 25, 30}\n"
          ]
        }
      ]
    }
  ]
}